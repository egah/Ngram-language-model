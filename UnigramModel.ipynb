{
 "cells": [
  {
   "cell_type": "code",
   "execution_count": 1,
   "id": "cloudy-research",
   "metadata": {},
   "outputs": [],
   "source": [
    "import nltk\n",
    "from nltk.tokenize import word_tokenize, sent_tokenize, RegexpTokenizer\n",
    "#nltk.download('punkt')\n",
    "from nltk.util import ngrams, bigrams, everygrams, pad_sequence\n",
    "from nltk.lm.preprocessing import padded_everygram_pipeline, flatten, pad_both_ends\n",
    "from nltk.lm import NgramCounter, MLE\n",
    "from collections import defaultdict, Counter\n",
    "from collections.abc import Sequence\n",
    "from nltk.probability import FreqDist, ConditionalFreqDist\n",
    "from math import log2\n",
    "\n",
    "#[*pad_sequence(next(fx),n=5,pad_left=True,left_pad_symbol=\"</s>\", pad_right=True, right_pad_symbol=\"</s>\")]\n",
    "#list(pad_both_ends(next(fx),n=3))\n",
    "#list(everygrams(pad_both_ends(next(fx),n=2),max_len=2))\n",
    "#list(flatten(pad_both_ends(text,n=3) for text in fx))\n",
    "\n",
    "\n",
    "from collections import defaultdict\n",
    "from collections.abc import Sequence\n",
    "from nltk.probability import FreqDist, ConditionalFreqDist"
   ]
  },
  {
   "cell_type": "code",
   "execution_count": null,
   "id": "editorial-workshop",
   "metadata": {},
   "outputs": [],
   "source": []
  },
  {
   "cell_type": "code",
   "execution_count": 2,
   "id": "completed-tunnel",
   "metadata": {},
   "outputs": [],
   "source": [
    "#preprocessing\n",
    "def replace(text:str):\n",
    "    replacement_rules = {'“': '\"', '”': '\"', '’': \"'\", '--': ','}\n",
    "    for key,val in replacement_rules.items():\n",
    "        text.replace(key,val)\n",
    "    return text\n",
    "def tok_sent(paragrah:str):\n",
    "    word_tok= RegexpTokenizer(r'[-\\'\\w]+',gaps=False)\n",
    "    for sentence in sent_tokenize(paragrah):\n",
    "        sent_t= word_tok.tokenize(sentence)\n",
    "        if sent_t:\n",
    "            sent_t.append('[END]')\n",
    "            yield sent_t\n",
    "\n",
    "def preprocessing(file_path:str,output_path:str)->None:\n",
    "    with open(file_path,encoding='utf-8-sig',mode='r',errors='ignore') as f, open(output_path,mode='w') as w:\n",
    "        for row in f:\n",
    "            # replace charater that sent_tokenize can recognize\n",
    "            row= row.lower()\n",
    "            row= replace(row)\n",
    "\n",
    "            for sentence in tok_sent(row):\n",
    "                w.write(','.join(sentence))\n",
    "                w.write('\\n')\n",
    "\n",
    "def gen_tok(file:str):\n",
    "    with open(file,mode='r') as w:\n",
    "        for sentence in w.read().splitlines():\n",
    "            yield sentence.split(',')"
   ]
  },
  {
   "cell_type": "code",
   "execution_count": null,
   "id": "danish-marine",
   "metadata": {},
   "outputs": [],
   "source": []
  },
  {
   "cell_type": "code",
   "execution_count": 22,
   "id": "catholic-surrey",
   "metadata": {},
   "outputs": [],
   "source": [
    "#1-gram\n",
    "\n",
    "class UnigramCount(object):\n",
    "    \"\"\"\n",
    "    Compter le npmbre de fois que chaque unigram apparait\n",
    "    \"\"\"\n",
    "\n",
    "    def __init__(self,file_name:str)->None:\n",
    "        self.texte = gen_tok(file_name)\n",
    "        self.count()\n",
    "    def count(self):\n",
    "        self.nb_phrase = 0\n",
    "        self.nb_mots = 0\n",
    "        self.counts = {}\n",
    "\n",
    "        for phrase in self.texte:\n",
    "            self.nb_phrase +=1\n",
    "            self.nb_mots +=len(phrase)\n",
    "            for unigram in phrase:\n",
    "                self.counts[unigram]= self.counts.get(unigram, 0) + 1\n",
    "\n",
    "class UnigramModel(object):\n",
    "\n",
    "    def __init__(self, compteur:UnigramCount):\n",
    "        self.compteur= compteur\n",
    "        self.compt= self.compteur.counts.copy()\n",
    "        self.compt['[UNK]'] = 0\n",
    "        self.vocab = set(self.compteur.counts.keys())\n",
    "        self.vocab_size = len(self.vocab)\n",
    "\n",
    "    def fit(self,k:int = 1):\n",
    "        self.probs= {}\n",
    "        for unigram, unigram_count in self.compt.items():\n",
    "            prob_num = unigram_count + k\n",
    "            prob_denom = self.compteur.nb_mots + k*self.vocab_size\n",
    "            self.probs[unigram] = prob_num/prob_denom\n",
    "\n",
    "    def plot(self):\n",
    "        import matplotlib.pyplot as plt\n",
    "        import pandas as pd\n",
    "        fig, (ax1, ax2) = plt.subplots(1,2,figsize=(20,7))\n",
    "        self.fit(0)\n",
    "        #dictionnaire = dict(sorted(self.probs.items(),key=lambda item:item[1],reverse=True))\n",
    "        data= pd.Series(self.probs.values(),index=self.probs.keys())\n",
    "        plus_grand= data.nlargest(10)\n",
    "        plus_petit = data.nsmallest(10)\n",
    "        ax1.bar(plus_grand.index, plus_grand,label='avant add one smooothing')\n",
    "        ax2.bar(plus_petit.index,plus_petit)\n",
    "        ax1.tick_params(axis='x', labelrotation=45)\n",
    "        ax2.tick_params(axis='x', labelrotation=45)\n",
    "        \n",
    "        self.fit(1)\n",
    "        data= pd.Series(self.probs.values(),index=self.probs.keys())\n",
    "        plus_grand= data.nlargest(10)\n",
    "        plus_petit = data.nsmallest(10)\n",
    "        ax1.bar(plus_grand.index, plus_grand,label='apres add one smoothing')\n",
    "        ax2.bar(plus_petit.index,plus_petit)\n",
    "        ax1.legend()\n",
    "        ax1.set_ylabel('% in training text')\n",
    "        ax1.set_title('top 10 des mots les plus communs')\n",
    "        ax2.set_title('top 10 des mots les moins communs')\n",
    "        plt.show()\n",
    "\n",
    "    def evaluate(self,eval_text:UnigramCount):\n",
    "        test_log_likelihood = 0\n",
    "        for unigram, value in eval_text.counts.items():\n",
    "            if unigram not in self.vocab:\n",
    "                unigram = '[UNK]'\n",
    "            test_log_likelihood += value*log2(self.probs[unigram])\n",
    "\n",
    "        return test_log_likelihood/eval_text.nb_mots"
   ]
  },
  {
   "cell_type": "code",
   "execution_count": 23,
   "id": "honey-mechanics",
   "metadata": {},
   "outputs": [
    {
     "name": "stdout",
     "output_type": "stream",
     "text": [
      "\n",
      "    Compter le npmbre de fois que chaque unigram apparait\n",
      "    \n",
      "average log_lik for dev1 : -9.46 and dev2 : -10.31\n"
     ]
    },
    {
     "data": {
      "image/png": "[encoded data removed]",
      "text/plain": [
       "<Figure size 1440x504 with 2 Axes>"
      ]
     },
     "metadata": {
      "needs_background": "light"
     },
     "output_type": "display_data"
    }
   ],
   "source": [
    "\n",
    "if __name__ == '__main__':\n",
    "\n",
    "    print(UnigramCount.__doc__)\n",
    "    count=UnigramCount('dataset/train.txt')\n",
    "\n",
    "    model= UnigramModel(count)\n",
    "    model.fit()\n",
    "    #preprocessing('dev2_raw.txt','dev2.txt')\n",
    "    eval_dev1 = UnigramCount('dataset/dev1.txt')\n",
    "    eval_dev2 = UnigramCount('dataset/dev2.txt')\n",
    "    print('average log_lik for dev1 : {0:.2f} and dev2 : {1:.2f}'.format(\n",
    "    model.evaluate(eval_dev1),model.evaluate(eval_dev2)))\n",
    "    model.plot()"
   ]
  },
  {
   "cell_type": "code",
   "execution_count": null,
   "id": "784ccfbc-e44a-4c25-99f0-d5aa79354dc0",
   "metadata": {},
   "outputs": [],
   "source": [
    "# comment tu vas "
   ]
  }
 ],
 "metadata": {
  "kernelspec": {
   "display_name": "Python 3 (ipykernel)",
   "language": "python",
   "name": "python3"
  },
  "language_info": {
   "codemirror_mode": {
    "name": "ipython",
    "version": 3
   },
   "file_extension": ".py",
   "mimetype": "text/x-python",
   "name": "python",
   "nbconvert_exporter": "python",
   "pygments_lexer": "ipython3",
   "version": "3.10.12"
  }
 },
 "nbformat": 4,
 "nbformat_minor": 5
}
