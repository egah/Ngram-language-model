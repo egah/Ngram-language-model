{
 "cells": [
  {
   "cell_type": "code",
   "execution_count": 1,
   "id": "automated-auditor",
   "metadata": {},
   "outputs": [],
   "source": [
    "# NgramCount\n",
    "import numpy as np\n",
    "from nltk.util import ngrams\n",
    "#from unigramI import gen_tok\n",
    "from typing import Tuple, List, Callable"
   ]
  },
  {
   "cell_type": "code",
   "execution_count": 2,
   "id": "material-pickup",
   "metadata": {},
   "outputs": [],
   "source": [
    "def gen_tok(file:str):\n",
    "    with open(file,mode='r') as w:\n",
    "        for sentence in w.read().splitlines():\n",
    "            yield sentence.split(',')"
   ]
  },
  {
   "cell_type": "code",
   "execution_count": 3,
   "id": "divided-virgin",
   "metadata": {},
   "outputs": [],
   "source": [
    "class NgramCount:\n",
    "\n",
    "    def __init__(self,file_name:str)->None:\n",
    "        self.texte = gen_tok(file_name)\n",
    "        self.count()\n",
    "\n",
    "    def count(self):\n",
    "        self.nb_sent=0\n",
    "        self.nb_word=0\n",
    "        self.counts = {}\n",
    "        self.start_counts = {}\n",
    "\n",
    "        for sent in self.texte:\n",
    "            self.nb_sent +=1\n",
    "            self.nb_word +=len(sent)\n",
    "            for ngram_length in range(1,6):\n",
    "                for ngram_position, ngram in enumerate(ngrams(sent,ngram_length)):\n",
    "                    if ngram_position == 0:\n",
    "                        self.start_counts[ngram] = self.start_counts.get(ngram,0)+1\n",
    "                    self.counts[ngram] = self.counts.get(ngram,0) + 1"
   ]
  },
  {
   "cell_type": "code",
   "execution_count": 4,
   "id": "sporting-marshall",
   "metadata": {},
   "outputs": [],
   "source": [
    "class NgramModel:\n",
    "\n",
    "    def __init__(self,train_counter:NgramCount):\n",
    "        self.counter = train_counter\n",
    "        self.counts = train_counter.counts\n",
    "        self.start_counts = train_counter.start_counts\n",
    "        self.vocab_size = len(list(ngram for ngram in self.counts.keys() if len(ngram)==1))\n",
    "        self.uniform_prob = 1/(self.vocab_size + 1)\n",
    "\n",
    "    def calculate_unigram_prob(self,unigram:Tuple[str]):\n",
    "        if unigram in self.start_counts:\n",
    "            prob_num = self.start_counts[unigram]\n",
    "            prob_denom = self.counter.nb_sent\n",
    "            self.start_probs[unigram] = prob_num/prob_denom\n",
    "        prob_num = self.counts[unigram]\n",
    "        prob_denom = self.counter.nb_word\n",
    "        self.probs[unigram] = prob_num / prob_denom\n",
    "\n",
    "    def calculate_multigram_prob(self,ngram:Tuple[str]):\n",
    "        prevgram = ngram[:-1]\n",
    "        if ngram in self.start_counts:\n",
    "            prob_num = self.start_counts[ngram]\n",
    "            prob_denom = self.start_counts[prevgram]\n",
    "            self.start_probs[ngram] = prob_num / prob_denom\n",
    "        prob_num = self.counts[ngram]\n",
    "        prob_denom = self.counts[prevgram]\n",
    "        self.probs[ngram] = prob_num / prob_denom\n",
    "\n",
    "    def train(self):\n",
    "        self.start_probs = {}\n",
    "        self.probs = {}\n",
    "        for ngram in self.counts:\n",
    "            if len(ngram) == 1:\n",
    "                self.calculate_unigram_prob(ngram)\n",
    "            else:\n",
    "                self.calculate_multigram_prob(ngram)\n",
    "\n",
    "    def evaluate(self,eval_file:str) -> np.ndarray:\n",
    "        eval_tokan_count = sum(len(sentence) for sentence in gen_tok(eval_file))\n",
    "        prob_matrix = np.zeros(shape = (eval_tokan_count,6))\n",
    "        prob_matrix[:,0] = self.uniform_prob\n",
    "        row = 0\n",
    "        for sentence in gen_tok(eval_file):\n",
    "            for token_position, token in enumerate(sentence):\n",
    "                for ngram_length in range(1,6):\n",
    "                    ngram_end = token_position + 1\n",
    "                    ngram_start = token_position + 1 - ngram_length\n",
    "                    if ngram_start < 0:\n",
    "                        ngram = tuple(sentence[0:ngram_end])\n",
    "                        prob_matrix[row,ngram_length] = self.start_probs.get(ngram,0)\n",
    "                    else:\n",
    "                        ngram = tuple(sentence[ngram_start:ngram_end])\n",
    "                        prob_matrix[row, ngram_length] = self.probs.get(ngram,0)\n",
    "                row +=1\n",
    "        return prob_matrix\n",
    "\n",
    "    def loglik(self, prob_matrix:np.ndarray,weights: List[float] = None, log_function : Callable = np.log2)->float:\n",
    "        n_models = prob_matrix.shape[1]\n",
    "        if weights == None:\n",
    "            weights = np.ones(n_models) / n_models\n",
    "        interpolated_probs = np.sum(prob_matrix*weights, axis = 1)\n",
    "        avg_log_likelihood = log_function(interpolated_probs).mean()\n",
    "        return  avg_log_likelihood"
   ]
  },
  {
   "cell_type": "code",
   "execution_count": 6,
   "id": "secret-governor",
   "metadata": {},
   "outputs": [
    {
     "name": "stdout",
     "output_type": "stream",
     "text": [
      "average log_lik for dev1 : -8.70 and dev2 : -10.05\n"
     ]
    }
   ],
   "source": [
    "\n",
    "if __name__ == '__main__':\n",
    "    compter = NgramCount('dataset/train.txt')\n",
    "    model = NgramModel(compter)\n",
    "    model.train()\n",
    "    print('average log_lik for dev1 : {0:.2f} and dev2 : {1:.2f}'.format(\n",
    "        model.loglik(model.evaluate('dataset/dev1.txt')),model.loglik(model.evaluate('dataset/dev2.txt'))))"
   ]
  },
  {
   "cell_type": "code",
   "execution_count": 1,
   "id": "1a17799a-6424-4173-a6a7-8c2c4aa96f27",
   "metadata": {},
   "outputs": [
    {
     "name": "stderr",
     "output_type": "stream",
     "text": [
      "2023-10-08 09:57:58.777538: I tensorflow/core/platform/cpu_feature_guard.cc:193] This TensorFlow binary is optimized with oneAPI Deep Neural Network Library (oneDNN) to use the following CPU instructions in performance-critical operations:  AVX2 FMA\n",
      "To enable them in other operations, rebuild TensorFlow with the appropriate compiler flags.\n",
      "2023-10-08 09:57:59.173343: E tensorflow/stream_executor/cuda/cuda_blas.cc:2981] Unable to register cuBLAS factory: Attempting to register factory for plugin cuBLAS when one has already been registered\n",
      "2023-10-08 09:58:00.156678: W tensorflow/stream_executor/platform/default/dso_loader.cc:64] Could not load dynamic library 'libnvinfer.so.7'; dlerror: libnvinfer.so.7: cannot open shared object file: No such file or directory\n",
      "2023-10-08 09:58:00.156777: W tensorflow/stream_executor/platform/default/dso_loader.cc:64] Could not load dynamic library 'libnvinfer_plugin.so.7'; dlerror: libnvinfer_plugin.so.7: cannot open shared object file: No such file or directory\n",
      "2023-10-08 09:58:00.156785: W tensorflow/compiler/tf2tensorrt/utils/py_utils.cc:38] TF-TRT Warning: Cannot dlopen some TensorRT libraries. If you would like to use Nvidia GPU with TensorRT, please make sure the missing libraries mentioned above are installed properly.\n",
      "2023-10-08 09:58:01.665578: I tensorflow/stream_executor/cuda/cuda_gpu_executor.cc:980] successful NUMA node read from SysFS had negative value (-1), but there must be at least one NUMA node, so returning NUMA node zero\n",
      "2023-10-08 09:58:01.670556: I tensorflow/stream_executor/cuda/cuda_gpu_executor.cc:980] successful NUMA node read from SysFS had negative value (-1), but there must be at least one NUMA node, so returning NUMA node zero\n",
      "2023-10-08 09:58:01.670753: I tensorflow/stream_executor/cuda/cuda_gpu_executor.cc:980] successful NUMA node read from SysFS had negative value (-1), but there must be at least one NUMA node, so returning NUMA node zero\n"
     ]
    }
   ],
   "source": [
    "import spacy"
   ]
  },
  {
   "cell_type": "code",
   "execution_count": 6,
   "id": "52eeba24-f085-4c81-b5dc-baa6c6306a88",
   "metadata": {},
   "outputs": [],
   "source": [
    "nlp = spacy.load(\"en_core_web_sm\")"
   ]
  },
  {
   "cell_type": "code",
   "execution_count": 16,
   "id": "b4edd872-b0ec-4cee-97e6-ea7c678d4b81",
   "metadata": {},
   "outputs": [],
   "source": [
    "doc = nlp(\"I am Epiphane\")"
   ]
  },
  {
   "cell_type": "code",
   "execution_count": 25,
   "id": "f5e8afa0-ac9b-4b97-9d75-973354292b41",
   "metadata": {},
   "outputs": [
    {
     "name": "stdout",
     "output_type": "stream",
     "text": [
      "nsubj\n",
      "ROOT\n",
      "attr\n"
     ]
    }
   ],
   "source": [
    "for token in doc:\n",
    "    print(token.dep_)"
   ]
  },
  {
   "cell_type": "code",
   "execution_count": null,
   "id": "8ec398da-8dc8-4c79-bd02-38e0cfc10b27",
   "metadata": {},
   "outputs": [],
   "source": []
  }
 ],
 "metadata": {
  "kernelspec": {
   "display_name": "Python 3 (ipykernel)",
   "language": "python",
   "name": "python3"
  },
  "language_info": {
   "codemirror_mode": {
    "name": "ipython",
    "version": 3
   },
   "file_extension": ".py",
   "mimetype": "text/x-python",
   "name": "python",
   "nbconvert_exporter": "python",
   "pygments_lexer": "ipython3",
   "version": "3.10.12"
  },
  "widgets": {
   "application/vnd.jupyter.widget-state+json": {
    "state": {},
    "version_major": 2,
    "version_minor": 0
   }
  }
 },
 "nbformat": 4,
 "nbformat_minor": 5
}
